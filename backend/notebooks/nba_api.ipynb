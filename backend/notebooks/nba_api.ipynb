{
 "cells": [
  {
   "cell_type": "code",
   "execution_count": 4,
   "metadata": {
    "collapsed": true
   },
   "outputs": [],
   "source": [
    "import pandas as pd\n",
    "from nba_api.stats.endpoints import playergamelogs\n",
    "from nba_api.stats.static import players as play\n"
   ]
  },
  {
   "cell_type": "code",
   "execution_count": 9,
   "outputs": [
    {
     "data": {
      "text/plain": "           id            full_name\n0       76001       Alaa Abdelnaby\n1       76002      Zaid Abdul-Aziz\n2       76003  Kareem Abdul-Jabbar\n3          51   Mahmoud Abdul-Rauf\n4        1505    Tariq Abdul-Wahad\n...       ...                  ...\n4718  1627790           Ante Zizic\n4719    78647             Jim Zoet\n4720    78648            Bill Zopf\n4721  1627826          Ivica Zubac\n4722    78650           Matt Zunic\n\n[4723 rows x 2 columns]",
      "text/html": "<div>\n<style scoped>\n    .dataframe tbody tr th:only-of-type {\n        vertical-align: middle;\n    }\n\n    .dataframe tbody tr th {\n        vertical-align: top;\n    }\n\n    .dataframe thead th {\n        text-align: right;\n    }\n</style>\n<table border=\"1\" class=\"dataframe\">\n  <thead>\n    <tr style=\"text-align: right;\">\n      <th></th>\n      <th>id</th>\n      <th>full_name</th>\n    </tr>\n  </thead>\n  <tbody>\n    <tr>\n      <th>0</th>\n      <td>76001</td>\n      <td>Alaa Abdelnaby</td>\n    </tr>\n    <tr>\n      <th>1</th>\n      <td>76002</td>\n      <td>Zaid Abdul-Aziz</td>\n    </tr>\n    <tr>\n      <th>2</th>\n      <td>76003</td>\n      <td>Kareem Abdul-Jabbar</td>\n    </tr>\n    <tr>\n      <th>3</th>\n      <td>51</td>\n      <td>Mahmoud Abdul-Rauf</td>\n    </tr>\n    <tr>\n      <th>4</th>\n      <td>1505</td>\n      <td>Tariq Abdul-Wahad</td>\n    </tr>\n    <tr>\n      <th>...</th>\n      <td>...</td>\n      <td>...</td>\n    </tr>\n    <tr>\n      <th>4718</th>\n      <td>1627790</td>\n      <td>Ante Zizic</td>\n    </tr>\n    <tr>\n      <th>4719</th>\n      <td>78647</td>\n      <td>Jim Zoet</td>\n    </tr>\n    <tr>\n      <th>4720</th>\n      <td>78648</td>\n      <td>Bill Zopf</td>\n    </tr>\n    <tr>\n      <th>4721</th>\n      <td>1627826</td>\n      <td>Ivica Zubac</td>\n    </tr>\n    <tr>\n      <th>4722</th>\n      <td>78650</td>\n      <td>Matt Zunic</td>\n    </tr>\n  </tbody>\n</table>\n<p>4723 rows × 2 columns</p>\n</div>"
     },
     "execution_count": 9,
     "metadata": {},
     "output_type": "execute_result"
    }
   ],
   "source": [
    "ids = pd.DataFrame.from_dict(play.get_players())[['id', 'full_name']]\n",
    "ids"
   ],
   "metadata": {
    "collapsed": false
   }
  },
  {
   "cell_type": "code",
   "execution_count": 13,
   "outputs": [
    {
     "data": {
      "text/plain": "[Empty DataFrame\n Columns: [SEASON_YEAR, PLAYER_ID, PLAYER_NAME, NICKNAME, TEAM_ID, TEAM_ABBREVIATION, TEAM_NAME, GAME_ID, GAME_DATE, MATCHUP, WL, MIN, FGM, FGA, FG_PCT, FG3M, FG3A, FG3_PCT, FTM, FTA, FT_PCT, OREB, DREB, REB, AST, TOV, STL, BLK, BLKA, PF, PFD, PTS, PLUS_MINUS, NBA_FANTASY_PTS, DD2, TD3, WNBA_FANTASY_PTS, GP_RANK, W_RANK, L_RANK, W_PCT_RANK, MIN_RANK, FGM_RANK, FGA_RANK, FG_PCT_RANK, FG3M_RANK, FG3A_RANK, FG3_PCT_RANK, FTM_RANK, FTA_RANK, FT_PCT_RANK, OREB_RANK, DREB_RANK, REB_RANK, AST_RANK, TOV_RANK, STL_RANK, BLK_RANK, BLKA_RANK, PF_RANK, PFD_RANK, PTS_RANK, PLUS_MINUS_RANK, NBA_FANTASY_PTS_RANK, DD2_RANK, TD3_RANK, WNBA_FANTASY_PTS_RANK, VIDEO_AVAILABLE_FLAG]\n Index: []\n \n [0 rows x 68 columns]]"
     },
     "execution_count": 13,
     "metadata": {},
     "output_type": "execute_result"
    }
   ],
   "source": [
    "playergamelogs.PlayerGameLogs(\n",
    "            player_id_nullable=1628369,\n",
    "        ).get_data_frames()\n"
   ],
   "metadata": {
    "collapsed": false
   }
  },
  {
   "cell_type": "code",
   "execution_count": 6,
   "outputs": [],
   "source": [],
   "metadata": {
    "collapsed": false
   }
  }
 ],
 "metadata": {
  "kernelspec": {
   "display_name": "Python 3",
   "language": "python",
   "name": "python3"
  },
  "language_info": {
   "codemirror_mode": {
    "name": "ipython",
    "version": 2
   },
   "file_extension": ".py",
   "mimetype": "text/x-python",
   "name": "python",
   "nbconvert_exporter": "python",
   "pygments_lexer": "ipython2",
   "version": "2.7.6"
  }
 },
 "nbformat": 4,
 "nbformat_minor": 0
}
